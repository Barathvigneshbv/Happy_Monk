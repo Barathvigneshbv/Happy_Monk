{
  "nbformat": 4,
  "nbformat_minor": 0,
  "metadata": {
    "colab": {
      "provenance": []
    },
    "kernelspec": {
      "name": "python3",
      "display_name": "Python 3"
    },
    "language_info": {
      "name": "python"
    }
  },
  "cells": [
    {
      "cell_type": "code",
      "execution_count": null,
      "metadata": {
        "id": "A8WUovmRX9xr"
      },
      "outputs": [],
      "source": [
        "import pandas as pd\n",
        "import numpy as np\n",
        "import matplotlib.pyplot as plt\n",
        "movies = pd.read_csv('genre.csv')"
      ]
    },
    {
      "cell_type": "code",
      "source": [
        "movies.head()"
      ],
      "metadata": {
        "colab": {
          "base_uri": "https://localhost:8080/",
          "height": 206
        },
        "id": "rpENlWZcnmxo",
        "outputId": "15add745-ea7c-40b2-d9e1-986f5385b5e6"
      },
      "execution_count": null,
      "outputs": [
        {
          "output_type": "execute_result",
          "data": {
            "text/plain": [
              "   movieId                               title  \\\n",
              "0        1                    Toy Story (1995)   \n",
              "1        2                      Jumanji (1995)   \n",
              "2        3             Grumpier Old Men (1995)   \n",
              "3        4            Waiting to Exhale (1995)   \n",
              "4        5  Father of the Bride Part II (1995)   \n",
              "\n",
              "                                        genres  \n",
              "0  Adventure|Animation|Children|Comedy|Fantasy  \n",
              "1                   Adventure|Children|Fantasy  \n",
              "2                               Comedy|Romance  \n",
              "3                         Comedy|Drama|Romance  \n",
              "4                                       Comedy  "
            ],
            "text/html": [
              "\n",
              "  <div id=\"df-d722f8dc-8586-4ce0-ba4f-b7d8d3c9c1a1\">\n",
              "    <div class=\"colab-df-container\">\n",
              "      <div>\n",
              "<style scoped>\n",
              "    .dataframe tbody tr th:only-of-type {\n",
              "        vertical-align: middle;\n",
              "    }\n",
              "\n",
              "    .dataframe tbody tr th {\n",
              "        vertical-align: top;\n",
              "    }\n",
              "\n",
              "    .dataframe thead th {\n",
              "        text-align: right;\n",
              "    }\n",
              "</style>\n",
              "<table border=\"1\" class=\"dataframe\">\n",
              "  <thead>\n",
              "    <tr style=\"text-align: right;\">\n",
              "      <th></th>\n",
              "      <th>movieId</th>\n",
              "      <th>title</th>\n",
              "      <th>genres</th>\n",
              "    </tr>\n",
              "  </thead>\n",
              "  <tbody>\n",
              "    <tr>\n",
              "      <th>0</th>\n",
              "      <td>1</td>\n",
              "      <td>Toy Story (1995)</td>\n",
              "      <td>Adventure|Animation|Children|Comedy|Fantasy</td>\n",
              "    </tr>\n",
              "    <tr>\n",
              "      <th>1</th>\n",
              "      <td>2</td>\n",
              "      <td>Jumanji (1995)</td>\n",
              "      <td>Adventure|Children|Fantasy</td>\n",
              "    </tr>\n",
              "    <tr>\n",
              "      <th>2</th>\n",
              "      <td>3</td>\n",
              "      <td>Grumpier Old Men (1995)</td>\n",
              "      <td>Comedy|Romance</td>\n",
              "    </tr>\n",
              "    <tr>\n",
              "      <th>3</th>\n",
              "      <td>4</td>\n",
              "      <td>Waiting to Exhale (1995)</td>\n",
              "      <td>Comedy|Drama|Romance</td>\n",
              "    </tr>\n",
              "    <tr>\n",
              "      <th>4</th>\n",
              "      <td>5</td>\n",
              "      <td>Father of the Bride Part II (1995)</td>\n",
              "      <td>Comedy</td>\n",
              "    </tr>\n",
              "  </tbody>\n",
              "</table>\n",
              "</div>\n",
              "      <button class=\"colab-df-convert\" onclick=\"convertToInteractive('df-d722f8dc-8586-4ce0-ba4f-b7d8d3c9c1a1')\"\n",
              "              title=\"Convert this dataframe to an interactive table.\"\n",
              "              style=\"display:none;\">\n",
              "        \n",
              "  <svg xmlns=\"http://www.w3.org/2000/svg\" height=\"24px\"viewBox=\"0 0 24 24\"\n",
              "       width=\"24px\">\n",
              "    <path d=\"M0 0h24v24H0V0z\" fill=\"none\"/>\n",
              "    <path d=\"M18.56 5.44l.94 2.06.94-2.06 2.06-.94-2.06-.94-.94-2.06-.94 2.06-2.06.94zm-11 1L8.5 8.5l.94-2.06 2.06-.94-2.06-.94L8.5 2.5l-.94 2.06-2.06.94zm10 10l.94 2.06.94-2.06 2.06-.94-2.06-.94-.94-2.06-.94 2.06-2.06.94z\"/><path d=\"M17.41 7.96l-1.37-1.37c-.4-.4-.92-.59-1.43-.59-.52 0-1.04.2-1.43.59L10.3 9.45l-7.72 7.72c-.78.78-.78 2.05 0 2.83L4 21.41c.39.39.9.59 1.41.59.51 0 1.02-.2 1.41-.59l7.78-7.78 2.81-2.81c.8-.78.8-2.07 0-2.86zM5.41 20L4 18.59l7.72-7.72 1.47 1.35L5.41 20z\"/>\n",
              "  </svg>\n",
              "      </button>\n",
              "      \n",
              "  <style>\n",
              "    .colab-df-container {\n",
              "      display:flex;\n",
              "      flex-wrap:wrap;\n",
              "      gap: 12px;\n",
              "    }\n",
              "\n",
              "    .colab-df-convert {\n",
              "      background-color: #E8F0FE;\n",
              "      border: none;\n",
              "      border-radius: 50%;\n",
              "      cursor: pointer;\n",
              "      display: none;\n",
              "      fill: #1967D2;\n",
              "      height: 32px;\n",
              "      padding: 0 0 0 0;\n",
              "      width: 32px;\n",
              "    }\n",
              "\n",
              "    .colab-df-convert:hover {\n",
              "      background-color: #E2EBFA;\n",
              "      box-shadow: 0px 1px 2px rgba(60, 64, 67, 0.3), 0px 1px 3px 1px rgba(60, 64, 67, 0.15);\n",
              "      fill: #174EA6;\n",
              "    }\n",
              "\n",
              "    [theme=dark] .colab-df-convert {\n",
              "      background-color: #3B4455;\n",
              "      fill: #D2E3FC;\n",
              "    }\n",
              "\n",
              "    [theme=dark] .colab-df-convert:hover {\n",
              "      background-color: #434B5C;\n",
              "      box-shadow: 0px 1px 3px 1px rgba(0, 0, 0, 0.15);\n",
              "      filter: drop-shadow(0px 1px 2px rgba(0, 0, 0, 0.3));\n",
              "      fill: #FFFFFF;\n",
              "    }\n",
              "  </style>\n",
              "\n",
              "      <script>\n",
              "        const buttonEl =\n",
              "          document.querySelector('#df-d722f8dc-8586-4ce0-ba4f-b7d8d3c9c1a1 button.colab-df-convert');\n",
              "        buttonEl.style.display =\n",
              "          google.colab.kernel.accessAllowed ? 'block' : 'none';\n",
              "\n",
              "        async function convertToInteractive(key) {\n",
              "          const element = document.querySelector('#df-d722f8dc-8586-4ce0-ba4f-b7d8d3c9c1a1');\n",
              "          const dataTable =\n",
              "            await google.colab.kernel.invokeFunction('convertToInteractive',\n",
              "                                                     [key], {});\n",
              "          if (!dataTable) return;\n",
              "\n",
              "          const docLinkHtml = 'Like what you see? Visit the ' +\n",
              "            '<a target=\"_blank\" href=https://colab.research.google.com/notebooks/data_table.ipynb>data table notebook</a>'\n",
              "            + ' to learn more about interactive tables.';\n",
              "          element.innerHTML = '';\n",
              "          dataTable['output_type'] = 'display_data';\n",
              "          await google.colab.output.renderOutput(dataTable, element);\n",
              "          const docLink = document.createElement('div');\n",
              "          docLink.innerHTML = docLinkHtml;\n",
              "          element.appendChild(docLink);\n",
              "        }\n",
              "      </script>\n",
              "    </div>\n",
              "  </div>\n",
              "  "
            ]
          },
          "metadata": {},
          "execution_count": 28
        }
      ]
    },
    {
      "cell_type": "code",
      "source": [
        "movies.info()"
      ],
      "metadata": {
        "colab": {
          "base_uri": "https://localhost:8080/"
        },
        "id": "ti7sUugBaPkg",
        "outputId": "e8b530bd-cf27-4123-c8ad-81ce4c42bb62"
      },
      "execution_count": null,
      "outputs": [
        {
          "output_type": "stream",
          "name": "stdout",
          "text": [
            "<class 'pandas.core.frame.DataFrame'>\n",
            "RangeIndex: 486 entries, 0 to 485\n",
            "Data columns (total 3 columns):\n",
            " #   Column   Non-Null Count  Dtype \n",
            "---  ------   --------------  ----- \n",
            " 0   movieId  486 non-null    int64 \n",
            " 1   title    486 non-null    object\n",
            " 2   genres   486 non-null    object\n",
            "dtypes: int64(1), object(2)\n",
            "memory usage: 11.5+ KB\n"
          ]
        }
      ]
    },
    {
      "cell_type": "code",
      "source": [
        " \n",
        "def extract_title(title):\n",
        "   year = title[len(title)-5:len(title)-1]  \n",
        "   if year.isnumeric():\n",
        "      title_no_year = title[:len(title)-7]\n",
        "      return title_no_year\n",
        "   else:\n",
        "      return title\n",
        "def extract_year(title):\n",
        "   year = title[len(title)-5:len(title)-1]\n",
        "   if year.isnumeric():\n",
        "      return int(year)\n",
        "   else:\n",
        "      return np.nan\n",
        "movies.rename(columns={'title':'title_year'}, inplace=True) \n",
        "movies['title_year'] = movies['title_year'].apply(lambda x: x.strip()) \n",
        "movies['title'] = movies['title_year'].apply(extract_title) \n",
        "movies['year'] = movies['title_year'].apply(extract_year) "
      ],
      "metadata": {
        "id": "rYt3DgdIYTAv"
      },
      "execution_count": null,
      "outputs": []
    },
    {
      "cell_type": "code",
      "source": [
        "def extract_title(title):\n",
        "   year = title[len(title)-5:len(title)-1] \n",
        "   if year.isnumeric():\n",
        "      title_no_year = title[:len(title)-7]\n",
        "      return title_no_year\n",
        "   else:\n",
        "      return title\n",
        "def extract_year(title):\n",
        "   year = title[len(title)-5:len(title)-1]\n",
        "   if year.isnumeric():\n",
        "      return int(year)\n",
        "   else:\n",
        "      return np.nan\n",
        "movies.rename(columns={'title':'title_year'}, inplace=True) \n",
        "movies['title_year'] = movies['title_year'].apply(lambda x: x.strip()) \n",
        "movies['title'] = movies['title_year'].apply(extract_title) \n",
        "movies['year'] = movies['title_year'].apply(extract_year) "
      ],
      "metadata": {
        "id": "xVYxuntiV2Fh"
      },
      "execution_count": null,
      "outputs": []
    },
    {
      "cell_type": "code",
      "source": [
        "r,c = movies[movies['genres']=='(no genres listed)'].shape\n",
        "print('The number of movies which do not have info about genres:',r)\n",
        "movies = movies[~(movies['genres']=='(no genres listed)')].reset_index(drop=True)"
      ],
      "metadata": {
        "colab": {
          "base_uri": "https://localhost:8080/"
        },
        "id": "Ash84lJrYZrz",
        "outputId": "19a35d32-ef89-4ea7-9ea2-607103f1d23d"
      },
      "execution_count": null,
      "outputs": [
        {
          "output_type": "stream",
          "name": "stdout",
          "text": [
            "The number of movies which do not have info about genres: 0\n"
          ]
        }
      ]
    },
    {
      "cell_type": "code",
      "source": [
        "\n",
        "movies['genres'] = movies['genres'].str.replace('|',' ')\n",
        "counts = dict()\n",
        "for i in movies.index:\n",
        "   for g in movies.loc[i,'genres'].split(' '):\n",
        "      if g not in counts:\n",
        "         counts[g] = 1\n",
        "      else:\n",
        "         counts[g] = counts[g] + 1\n",
        "plt.bar(list(counts.keys()), counts.values(), color='g')\n",
        "plt.xticks(rotation=45)\n",
        "plt.xlabel('Genres')\n",
        "plt.ylabel('Counts')"
      ],
      "metadata": {
        "colab": {
          "base_uri": "https://localhost:8080/",
          "height": 396
        },
        "id": "Y14nbe0GYctJ",
        "outputId": "4d415484-0a28-4d4d-c8ad-639ddc0bc57d"
      },
      "execution_count": null,
      "outputs": [
        {
          "output_type": "stream",
          "name": "stderr",
          "text": [
            "<ipython-input-32-dc0b315a999d>:2: FutureWarning: The default value of regex will change from True to False in a future version. In addition, single character regular expressions will *not* be treated as literal strings when regex=True.\n",
            "  movies['genres'] = movies['genres'].str.replace('|',' ')\n"
          ]
        },
        {
          "output_type": "execute_result",
          "data": {
            "text/plain": [
              "Text(0, 0.5, 'Counts')"
            ]
          },
          "metadata": {},
          "execution_count": 32
        },
        {
          "output_type": "display_data",
          "data": {
            "text/plain": [
              "<Figure size 432x288 with 1 Axes>"
            ],
            "image/png": "[encoded data removed]"
          },
          "metadata": {
            "needs_background": "light"
          }
        }
      ]
    },
    {
      "cell_type": "code",
      "source": [
        "from sklearn.feature_extraction.text import TfidfVectorizer\n",
        "movies['genres'] = movies['genres'].str.replace('Sci-Fi','SciFi')\n",
        "movies['genres'] = movies['genres'].str.replace('Film-Noir','Noir')\n",
        "tfidf_vector = TfidfVectorizer(stop_words='english')\n",
        "tfidf_matrix = tfidf_vector.fit_transform(movies['genres'])"
      ],
      "metadata": {
        "id": "G3k2dFLsYoK3"
      },
      "execution_count": null,
      "outputs": []
    },
    {
      "cell_type": "code",
      "source": [
        "tfidf_matrix.shape\n"
      ],
      "metadata": {
        "colab": {
          "base_uri": "https://localhost:8080/"
        },
        "id": "5NjB0JppYtjs",
        "outputId": "9eb69e51-dae1-4253-9a89-bd0eeb06ddf5"
      },
      "execution_count": null,
      "outputs": [
        {
          "output_type": "execute_result",
          "data": {
            "text/plain": [
              "(486, 19)"
            ]
          },
          "metadata": {},
          "execution_count": 34
        }
      ]
    },
    {
      "cell_type": "code",
      "source": [
        "print(list(enumerate(tfidf_vector.get_feature_names())))"
      ],
      "metadata": {
        "colab": {
          "base_uri": "https://localhost:8080/"
        },
        "id": "Ybcy431GYwkj",
        "outputId": "6b78002a-fc22-4d5c-c58a-bb96c94d87fb"
      },
      "execution_count": null,
      "outputs": [
        {
          "output_type": "stream",
          "name": "stdout",
          "text": [
            "[(0, 'action'), (1, 'adventure'), (2, 'animation'), (3, 'children'), (4, 'comedy'), (5, 'crime'), (6, 'documentary'), (7, 'drama'), (8, 'fantasy'), (9, 'horror'), (10, 'imax'), (11, 'musical'), (12, 'mystery'), (13, 'noir'), (14, 'romance'), (15, 'scifi'), (16, 'thriller'), (17, 'war'), (18, 'western')]\n"
          ]
        },
        {
          "output_type": "stream",
          "name": "stderr",
          "text": [
            "/usr/local/lib/python3.8/dist-packages/sklearn/utils/deprecation.py:87: FutureWarning: Function get_feature_names is deprecated; get_feature_names is deprecated in 1.0 and will be removed in 1.2. Please use get_feature_names_out instead.\n",
            "  warnings.warn(msg, category=FutureWarning)\n"
          ]
        }
      ]
    },
    {
      "cell_type": "code",
      "source": [
        "from sklearn.metrics.pairwise import linear_kernel\n",
        "sim_matrix = linear_kernel(tfidf_matrix,tfidf_matrix) \n",
        "print(sim_matrix)"
      ],
      "metadata": {
        "colab": {
          "base_uri": "https://localhost:8080/"
        },
        "id": "CGjc_H4kY2Sr",
        "outputId": "b510f0ba-efdf-4c13-b6eb-bfc8855c7c00"
      },
      "execution_count": null,
      "outputs": [
        {
          "output_type": "stream",
          "name": "stdout",
          "text": [
            "[[1.         0.75572094 0.15025974 ... 0.09574404 0.         0.24605568]\n",
            " [0.75572094 1.         0.         ... 0.         0.         0.        ]\n",
            " [0.15025974 0.         1.         ... 0.23762251 0.67115372 0.61067374]\n",
            " ...\n",
            " [0.09574404 0.         0.23762251 ... 1.         0.         0.38911532]\n",
            " [0.         0.         0.67115372 ... 0.         1.         0.        ]\n",
            " [0.24605568 0.         0.61067374 ... 0.38911532 0.         1.        ]]\n"
          ]
        }
      ]
    },
    {
      "cell_type": "code",
      "source": [
        "pip install fuzzywuzzy"
      ],
      "metadata": {
        "colab": {
          "base_uri": "https://localhost:8080/"
        },
        "id": "9GIVcLryZOsk",
        "outputId": "168aebdd-9710-46a6-8d7b-07c80e32dc4c"
      },
      "execution_count": null,
      "outputs": [
        {
          "output_type": "stream",
          "name": "stdout",
          "text": [
            "Looking in indexes: https://pypi.org/simple, https://us-python.pkg.dev/colab-wheels/public/simple/\n",
            "Requirement already satisfied: fuzzywuzzy in /usr/local/lib/python3.8/dist-packages (0.18.0)\n"
          ]
        }
      ]
    },
    {
      "cell_type": "code",
      "source": [
        "from fuzzywuzzy import fuzz\n",
        "def matching_score(a,b):\n",
        "   return fuzz.ratio(a,b)"
      ],
      "metadata": {
        "id": "qDx7zVTsY7f5"
      },
      "execution_count": null,
      "outputs": []
    },
    {
      "cell_type": "code",
      "source": [
        "def get_title_year_from_index(index):\n",
        "   return movies[movies.index == index]['title_year'].values[0]\n",
        "def get_title_from_index(index):\n",
        "   return movies[movies.index == index]['title'].values[0]\n",
        "def get_index_from_title(title):\n",
        "   return movies[movies.title == title].index.values[0]\n",
        "def find_closest_title(title):\n",
        "   leven_scores = list(enumerate(movies['title'].apply(matching_score, b=title)))\n",
        "   sorted_leven_scores = sorted(leven_scores, key=lambda x: x[1], reverse=True)\n",
        "   closest_title = get_title_from_index(sorted_leven_scores[0][0])\n",
        "   distance_score = sorted_leven_scores[0][1]\n",
        "   return closest_title, distance_score"
      ],
      "metadata": {
        "id": "yEGAJaIfZGCe"
      },
      "execution_count": null,
      "outputs": []
    },
    {
      "cell_type": "code",
      "source": [
        "def contents_based_recommender(movie_user_likes, how_many):\n",
        "   closest_title, distance_score = find_closest_title(movie_user_likes)\n",
        "  \n",
        "   if distance_score == 100:\n",
        "      movie_index = get_index_from_title(closest_title)\n",
        "      movie_list = list(enumerate(sim_matrix[int(movie_index)]))\n",
        "     \n",
        "      similar_movies = list(filter(lambda x:x[0] != int(movie_index), sorted(movie_list,key=lambda x:x[1], reverse=True))) \n",
        "      \n",
        "      print('Here\\'s the list of movies similar to '+'\\033[1m'+str(closest_title)+'\\033[0m'+'.\\n')\n",
        "      for i,s in similar_movies[:how_many]:\n",
        "         print(get_title_year_from_index(i))\n",
        "   \n",
        "   else:\n",
        "      print('Did you mean '+'\\033[1m'+str(closest_title)+'\\033[0m'+'?','\\n')\n",
        "      movie_index = get_index_from_title(closest_title)\n",
        "      movie_list = list(enumerate(sim_matrix[int(movie_index)]))\n",
        "      similar_movies = list(filter(lambda x:x[0] != int(movie_index), sorted(movie_list,key=lambda x:x[1], reverse=True)))\n",
        "      print('Here\\'s the list of movies similar to '+'\\033[1m'+str(closest_title)+'\\033[0m'+'.\\n')\n",
        "      for i,s in similar_movies[:how_many]:\n",
        "         print(get_title_year_from_index(i))"
      ],
      "metadata": {
        "id": "EyF41IaIZZKQ"
      },
      "execution_count": null,
      "outputs": []
    },
    {
      "cell_type": "code",
      "source": [
        "contents_based_recommender('Monsters, Inc.', 20)"
      ],
      "metadata": {
        "colab": {
          "base_uri": "https://localhost:8080/"
        },
        "id": "BmAphlO2ZeUG",
        "outputId": "ce90d6d5-fea2-4ec8-a2bb-a476a48cc4cf"
      },
      "execution_count": null,
      "outputs": [
        {
          "output_type": "stream",
          "name": "stdout",
          "text": [
            "Did you mean \u001b[1mDunston Checks In\u001b[0m? \n",
            "\n",
            "Here's the list of movies similar to \u001b[1mDunston Checks In\u001b[0m.\n",
            "\n",
            "It Takes Two (1995)\n",
            "Big Green, The (1995)\n",
            "Heavyweights (Heavy Weights) (1995)\n",
            "Richie Rich (1994)\n",
            "Baby-Sitters Club, The (1995)\n",
            "Now and Then (1995)\n",
            "Babe (1995)\n",
            "White Balloon, The (Badkonake sefid) (1995)\n",
            "Fluke (1995)\n",
            "Little Princess, A (1995)\n",
            "Gordy (1995)\n",
            "Flintstones, The (1994)\n",
            "Addams Family Values (1993)\n",
            "Mighty Morphin Power Rangers: The Movie (1995)\n",
            "Tom and Huck (1995)\n",
            "Amazing Panda Adventure, The (1995)\n",
            "Casper (1995)\n",
            "Far From Home: The Adventures of Yellow Dog (1995)\n",
            "Lassie (1994)\n",
            "Free Willy 2: The Adventure Home (1995)\n"
          ]
        }
      ]
    },
    {
      "cell_type": "code",
      "source": [],
      "metadata": {
        "id": "_0pQLnh3ZhRW"
      },
      "execution_count": null,
      "outputs": []
    }
  ]
}