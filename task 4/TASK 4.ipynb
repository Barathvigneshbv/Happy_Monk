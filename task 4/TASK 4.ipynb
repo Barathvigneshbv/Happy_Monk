{
 "cells": [
  {
   "cell_type": "code",
   "execution_count": 8,
   "id": "c7b01648",
   "metadata": {},
   "outputs": [],
   "source": [
    "import os\n",
    "import pandas as pd\n",
    "import shutil\n",
    "import tensorflow as tf\n",
    "from tqdm import tqdm\n",
    "from tensorflow.keras.preprocessing.image import ImageDataGenerator\n",
    "\n",
    "def make_dataframe(sdir):\n",
    "    \n",
    "    filepaths=[]\n",
    "    labels=[]\n",
    "    classlist=sorted(os.listdir(sdir) )     \n",
    "    for klass in classlist:\n",
    "        classpath=os.path.join(sdir, klass) \n",
    "        if os.path.isdir(classpath):\n",
    "            flist=sorted(os.listdir(classpath)) \n",
    "            desc=f'{klass:25s}'\n",
    "            for f in tqdm(flist, ncols=130,desc=desc, unit='files', colour='blue'):\n",
    "                fpath=os.path.join(classpath,f)\n",
    "                filepaths.append(fpath)\n",
    "                labels.append(klass)\n",
    "    Fseries=pd.Series(filepaths, name='filepaths')\n",
    "    Lseries=pd.Series(labels, name='labels')\n",
    "    df=pd.concat([Fseries, Lseries], axis=1) \n",
    "   \n",
    "    return df\n",
    "\n",
    "def make_and_store_images(df, augdir, n,  img_size,  color_mode='rgb', save_prefix='aug-',save_format='jpg'):\n",
    "       df=df.copy()        \n",
    "    if os.path.isdir(augdir):\n",
    "        shutil.rmtree(augdir)\n",
    "    os.mkdir(augdir)      \n",
    "    for label in df['labels'].unique():    \n",
    "        classpath=os.path.join(augdir,label)    \n",
    "        os.mkdir(classpath) \n",
    "    total=0\n",
    "   \n",
    "   gen = ImageDataGenerator(rescale=1./255, rotation_range =15,                  \n",
    "                     fill_mode = 'nearest', shear_range=0.2, \n",
    "                     zoom_range=0.2, width_shift_range = 0.2, \n",
    "                     height_shift_range = 0.2, horizontal_flip = True,\n",
    "                     brightness_range=[0.5, 1.5])\n",
    "    \n",
    "    groups= df.groupby('labels') \n",
    "    for label in df['labels'].unique():  \n",
    "        classdir=os.path.join(augdir, label)\n",
    "        group=groups.get_group(label)   \n",
    "        sample_count=len(group)   \n",
    "        if sample_count == n: \n",
    "            aug_img_count = 0\n",
    "            delta = n + sample_count           \n",
    "            msg='{0:40s} for class {1:^30s} creating {2:^5s} augmented images'.format(' ', label, str(delta))\n",
    "            print(msg, '\\r', end='') \n",
    "            aug_gen=gen.flow_from_dataframe( group,  x_col='filepaths', y_col=None, target_size=img_size,\n",
    "                                            class_mode=None, batch_size=1, shuffle=False, \n",
    "                                            save_to_dir=classdir, save_prefix=save_prefix, color_mode=color_mode,\n",
    "                                            save_format=save_format)\n",
    "            while aug_img_count < delta:\n",
    "                images=next(aug_gen)            \n",
    "                aug_img_count += len(images)\n",
    "            total += aug_img_count        \n",
    "    print('Total Augmented images created= ', total)"
   ]
  },
  {
   "cell_type": "code",
   "execution_count": 9,
   "id": "7a0caa16",
   "metadata": {
    "scrolled": true
   },
   "outputs": [
    {
     "name": "stderr",
     "output_type": "stream",
     "text": [
      "bengali                  : 100%|\u001b[34m█████████████████████████████████████████████████████████████████████████\u001b[0m| 7/7 [00:00<?, ?files/s]\u001b[0m\n",
      "hindi                    : 100%|\u001b[34m█████████████████████████████████████████████████████████████████████████\u001b[0m| 7/7 [00:00<?, ?files/s]\u001b[0m\n",
      "kannada                  : 100%|\u001b[34m█████████████████████████████████████████████████████████████████████████\u001b[0m| 7/7 [00:00<?, ?files/s]\u001b[0m\n",
      "tamil                    : 100%|\u001b[34m██████████████████████████████████████████████████████████████\u001b[0m| 7/7 [00:00<00:00, 70071.90files/s]\u001b[0m\n",
      "telugu                   : 100%|\u001b[34m█████████████████████████████████████████████████████████████████████████\u001b[0m| 7/7 [00:00<?, ?files/s]\u001b[0m"
     ]
    },
    {
     "name": "stdout",
     "output_type": "stream",
     "text": [
      "                                           filepaths   labels\n",
      "0  C:/Users/DELL/Desktop/main/license plate\\benga...  bengali\n",
      "1  C:/Users/DELL/Desktop/main/license plate\\benga...  bengali\n",
      "2  C:/Users/DELL/Desktop/main/license plate\\benga...  bengali\n",
      "3  C:/Users/DELL/Desktop/main/license plate\\benga...  bengali\n",
      "4  C:/Users/DELL/Desktop/main/license plate\\benga...  bengali\n",
      "length of dataframe is  35\n",
      "Found 7 validated image filenames.\n"
     ]
    },
    {
     "name": "stderr",
     "output_type": "stream",
     "text": [
      "\n"
     ]
    },
    {
     "name": "stdout",
     "output_type": "stream",
     "text": [
      "Found 7 validated image filenames.       for class             hindi              creating  14   augmented images \n",
      "Found 7 validated image filenames.       for class            kannada             creating  14   augmented images \n",
      "Found 7 validated image filenames.       for class             tamil              creating  14   augmented images \n",
      "Found 7 validated image filenames.       for class             telugu             creating  14   augmented images \n",
      "Total Augmented images created=  70\n"
     ]
    }
   ],
   "source": [
    "sdir=r'C:/Users/DELL/Desktop/main/license plate'\n",
    "df=make_dataframe(sdir)\n",
    "print (df.head())\n",
    "print ('length of dataframe is ',len(df))\n",
    "\n",
    "augdir=r'C:/Users/DELL/Desktop/main/new' \n",
    "n=7 \n",
    "img_size=(224,224) \n",
    "make_and_store_images(df, augdir, n,  img_size,  color_mode='rgb', save_prefix='aug-',save_format='jpg')"
   ]
  },
  {
   "cell_type": "code",
   "execution_count": null,
   "id": "f67e58a3",
   "metadata": {},
   "outputs": [],
   "source": []
  },
  {
   "cell_type": "code",
   "execution_count": null,
   "id": "35422f63",
   "metadata": {},
   "outputs": [],
   "source": []
  },
  {
   "cell_type": "code",
   "execution_count": null,
   "id": "55a49779",
   "metadata": {},
   "outputs": [],
   "source": []
  }
 ],
 "metadata": {
  "kernelspec": {
   "display_name": "Python 3 (ipykernel)",
   "language": "python",
   "name": "python3"
  },
  "language_info": {
   "codemirror_mode": {
    "name": "ipython",
    "version": 3
   },
   "file_extension": ".py",
   "mimetype": "text/x-python",
   "name": "python",
   "nbconvert_exporter": "python",
   "pygments_lexer": "ipython3",
   "version": "3.10.6"
  }
 },
 "nbformat": 4,
 "nbformat_minor": 5
}
